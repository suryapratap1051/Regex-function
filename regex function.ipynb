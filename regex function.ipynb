{
 "cells": [
  {
   "cell_type": "markdown",
   "id": "7df28282",
   "metadata": {},
   "source": [
    "match funtion"
   ]
  },
  {
   "cell_type": "code",
   "execution_count": 1,
   "id": "3ef3f988",
   "metadata": {},
   "outputs": [],
   "source": [
    "import re"
   ]
  },
  {
   "cell_type": "code",
   "execution_count": 3,
   "id": "47407aaa",
   "metadata": {},
   "outputs": [
    {
     "name": "stdout",
     "output_type": "stream",
     "text": [
      "<re.Match object; span=(0, 3), match='abc'>\n"
     ]
    }
   ],
   "source": [
    "pattern= r\"^abc\"\n",
    "mystring=\"abcde\"\n",
    "x=re.match(pattern,mystring)\n",
    "print(x)"
   ]
  },
  {
   "cell_type": "code",
   "execution_count": 4,
   "id": "3d3bc2d9",
   "metadata": {},
   "outputs": [
    {
     "name": "stdout",
     "output_type": "stream",
     "text": [
      "None\n"
     ]
    }
   ],
   "source": [
    "pattern= r\"^abc\"\n",
    "mystring=\"atcde\"\n",
    "x=re.match(pattern,mystring)\n",
    "print(x)"
   ]
  },
  {
   "cell_type": "markdown",
   "id": "fb1d95dc",
   "metadata": {},
   "source": [
    "search funtion"
   ]
  },
  {
   "cell_type": "code",
   "execution_count": 6,
   "id": "d5ff9a39",
   "metadata": {},
   "outputs": [
    {
     "name": "stdout",
     "output_type": "stream",
     "text": [
      "whitespace: <re.Match object; span=(1, 2), match=' '>\n"
     ]
    }
   ],
   "source": [
    "txt=\"i am surya and pratap\"\n",
    "x=re.search('\\s',txt)\n",
    "print(\"whitespace:\",x)"
   ]
  },
  {
   "cell_type": "code",
   "execution_count": 7,
   "id": "4f513a05",
   "metadata": {},
   "outputs": [
    {
     "name": "stdout",
     "output_type": "stream",
     "text": [
      "whitespace: 1\n"
     ]
    }
   ],
   "source": [
    "txt=\"i am surya and pratap\"\n",
    "x=re.search('\\s',txt)\n",
    "print(\"whitespace:\",x.start())"
   ]
  },
  {
   "cell_type": "code",
   "execution_count": null,
   "id": "3f9b893d",
   "metadata": {},
   "outputs": [],
   "source": []
  }
 ],
 "metadata": {
  "kernelspec": {
   "display_name": "Python 3 (ipykernel)",
   "language": "python",
   "name": "python3"
  },
  "language_info": {
   "codemirror_mode": {
    "name": "ipython",
    "version": 3
   },
   "file_extension": ".py",
   "mimetype": "text/x-python",
   "name": "python",
   "nbconvert_exporter": "python",
   "pygments_lexer": "ipython3",
   "version": "3.10.9"
  }
 },
 "nbformat": 4,
 "nbformat_minor": 5
}
